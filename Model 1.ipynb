{
 "cells": [
  {
   "cell_type": "code",
   "execution_count": 1,
   "metadata": {
    "collapsed": false
   },
   "outputs": [
    {
     "name": "stderr",
     "output_type": "stream",
     "text": [
      "/anaconda/lib/python2.7/site-packages/IPython/kernel/__main__.py:33: SettingWithCopyWarning: \n",
      "A value is trying to be set on a copy of a slice from a DataFrame.\n",
      "Try using .loc[row_indexer,col_indexer] = value instead\n",
      "\n",
      "See the caveats in the documentation: http://pandas.pydata.org/pandas-docs/stable/indexing.html#indexing-view-versus-copy\n",
      "/anaconda/lib/python2.7/site-packages/IPython/kernel/__main__.py:34: SettingWithCopyWarning: \n",
      "A value is trying to be set on a copy of a slice from a DataFrame\n",
      "\n",
      "See the caveats in the documentation: http://pandas.pydata.org/pandas-docs/stable/indexing.html#indexing-view-versus-copy\n",
      "//anaconda/lib/python2.7/site-packages/pandas/core/generic.py:3947: SettingWithCopyWarning: \n",
      "A value is trying to be set on a copy of a slice from a DataFrame\n",
      "\n",
      "See the caveats in the documentation: http://pandas.pydata.org/pandas-docs/stable/indexing.html#indexing-view-versus-copy\n",
      "  self._update_inplace(new_data)\n",
      "//anaconda/lib/python2.7/site-packages/IPython/core/interactiveshell.py:3035: SettingWithCopyWarning: \n",
      "A value is trying to be set on a copy of a slice from a DataFrame\n",
      "\n",
      "See the caveats in the documentation: http://pandas.pydata.org/pandas-docs/stable/indexing.html#indexing-view-versus-copy\n",
      "  exec(code_obj, self.user_global_ns, self.user_ns)\n",
      "/anaconda/lib/python2.7/site-packages/IPython/kernel/__main__.py:35: SettingWithCopyWarning: \n",
      "A value is trying to be set on a copy of a slice from a DataFrame\n",
      "\n",
      "See the caveats in the documentation: http://pandas.pydata.org/pandas-docs/stable/indexing.html#indexing-view-versus-copy\n",
      "/anaconda/lib/python2.7/site-packages/IPython/kernel/__main__.py:36: SettingWithCopyWarning: \n",
      "A value is trying to be set on a copy of a slice from a DataFrame\n",
      "\n",
      "See the caveats in the documentation: http://pandas.pydata.org/pandas-docs/stable/indexing.html#indexing-view-versus-copy\n",
      "/anaconda/lib/python2.7/site-packages/IPython/kernel/__main__.py:37: SettingWithCopyWarning: \n",
      "A value is trying to be set on a copy of a slice from a DataFrame\n",
      "\n",
      "See the caveats in the documentation: http://pandas.pydata.org/pandas-docs/stable/indexing.html#indexing-view-versus-copy\n"
     ]
    },
    {
     "data": {
      "text/plain": [
       "count    8.500000e+01\n",
       "mean     3.678659e+07\n",
       "std      2.846045e+07\n",
       "min      5.000000e+05\n",
       "25%      1.300000e+07\n",
       "50%      2.800000e+07\n",
       "75%      5.510417e+07\n",
       "max      1.350000e+08\n",
       "Name: production_budget, dtype: float64"
      ]
     },
     "execution_count": 1,
     "metadata": {},
     "output_type": "execute_result"
    }
   ],
   "source": [
    "import pandas as pd\n",
    "import statsmodels.api as sm\n",
    "import math\n",
    "import script1\n",
    "from sklearn.cluster import KMeans\n",
    "import numpy as np\n",
    "import seaborn\n",
    "import pprint\n",
    "\n",
    "\n",
    "data = pd.read_csv('merged_data.v2.csv')\n",
    "\n",
    "data['release_date_wide'] = pd.to_datetime(data['release_date_wide'])\n",
    "data['release_year_qtr'] = data['release_date_wide'].apply(lambda x: x.year*100+x.quarter)\n",
    "data['release_qtr'] = data['release_date_wide'].apply(lambda x: x.quarter)\n",
    "\n",
    "data['sqrt_prodcost']=[math.sqrt(x) for x in data.production_budget]\n",
    "\n",
    "data.sqrt_prodcost.hist()\n",
    "\n",
    "dat = data.dropna()\n",
    "\n",
    "dir_data=dat.groupby('director_x')\n",
    "dir_production=dir_data['production_budget'].mean()\n",
    "\n",
    "dir_production.describe()\n",
    "\n",
    "dir_1=dir_production[dir_production<=1.7E7].index\n",
    "dir_2=dir_production[(dir_production>1.7E7) & (dir_production<=3.65E7)].index\n",
    "dir_3=dir_production[(dir_production>3.65E7) & (dir_production<=6.5E7)].index\n",
    "dir_4=dir_production[dir_production>6.5E7].index\n",
    "\n",
    "dat['dir_cat'] = np.nan\n",
    "dat['dir_cat'][dat.director_x.isin(dir_1)] = \"DIR 1\"\n",
    "dat['dir_cat'][dat.director_x.isin(dir_2)] = \"DIR 2\"\n",
    "dat['dir_cat'][dat.director_x.isin(dir_3)] = \"DIR 3\"\n",
    "dat['dir_cat'][dat.director_x.isin(dir_4)] = \"DIR 4\"\n",
    "\n",
    "studio_data=dat.groupby('studio')\n",
    "studio_production=studio_data['production_budget'].mean()\n",
    "\n",
    "studio_production.describe()"
   ]
  },
  {
   "cell_type": "code",
   "execution_count": 2,
   "metadata": {
    "collapsed": false
   },
   "outputs": [
    {
     "name": "stderr",
     "output_type": "stream",
     "text": [
      "/anaconda/lib/python2.7/site-packages/IPython/kernel/__main__.py:6: SettingWithCopyWarning: \n",
      "A value is trying to be set on a copy of a slice from a DataFrame.\n",
      "Try using .loc[row_indexer,col_indexer] = value instead\n",
      "\n",
      "See the caveats in the documentation: http://pandas.pydata.org/pandas-docs/stable/indexing.html#indexing-view-versus-copy\n",
      "/anaconda/lib/python2.7/site-packages/IPython/kernel/__main__.py:7: SettingWithCopyWarning: \n",
      "A value is trying to be set on a copy of a slice from a DataFrame\n",
      "\n",
      "See the caveats in the documentation: http://pandas.pydata.org/pandas-docs/stable/indexing.html#indexing-view-versus-copy\n",
      "/anaconda/lib/python2.7/site-packages/IPython/kernel/__main__.py:8: SettingWithCopyWarning: \n",
      "A value is trying to be set on a copy of a slice from a DataFrame\n",
      "\n",
      "See the caveats in the documentation: http://pandas.pydata.org/pandas-docs/stable/indexing.html#indexing-view-versus-copy\n",
      "/anaconda/lib/python2.7/site-packages/IPython/kernel/__main__.py:9: SettingWithCopyWarning: \n",
      "A value is trying to be set on a copy of a slice from a DataFrame\n",
      "\n",
      "See the caveats in the documentation: http://pandas.pydata.org/pandas-docs/stable/indexing.html#indexing-view-versus-copy\n",
      "/anaconda/lib/python2.7/site-packages/IPython/kernel/__main__.py:10: SettingWithCopyWarning: \n",
      "A value is trying to be set on a copy of a slice from a DataFrame\n",
      "\n",
      "See the caveats in the documentation: http://pandas.pydata.org/pandas-docs/stable/indexing.html#indexing-view-versus-copy\n"
     ]
    },
    {
     "data": {
      "text/html": [
       "<table class=\"simpletable\">\n",
       "<caption>OLS Regression Results</caption>\n",
       "<tr>\n",
       "  <th>Dep. Variable:</th>      <td>sqrt_prodcost</td>  <th>  R-squared:         </th> <td>   0.651</td> \n",
       "</tr>\n",
       "<tr>\n",
       "  <th>Model:</th>                   <td>OLS</td>       <th>  Adj. R-squared:    </th> <td>   0.648</td> \n",
       "</tr>\n",
       "<tr>\n",
       "  <th>Method:</th>             <td>Least Squares</td>  <th>  F-statistic:       </th> <td>   294.6</td> \n",
       "</tr>\n",
       "<tr>\n",
       "  <th>Date:</th>             <td>Fri, 16 Oct 2015</td> <th>  Prob (F-statistic):</th> <td>8.54e-213</td>\n",
       "</tr>\n",
       "<tr>\n",
       "  <th>Time:</th>                 <td>14:28:58</td>     <th>  Log-Likelihood:    </th> <td> -8479.6</td> \n",
       "</tr>\n",
       "<tr>\n",
       "  <th>No. Observations:</th>      <td>   956</td>      <th>  AIC:               </th> <td>1.697e+04</td>\n",
       "</tr>\n",
       "<tr>\n",
       "  <th>Df Residuals:</th>          <td>   949</td>      <th>  BIC:               </th> <td>1.701e+04</td>\n",
       "</tr>\n",
       "<tr>\n",
       "  <th>Df Model:</th>              <td>     6</td>      <th>                     </th>     <td> </td>    \n",
       "</tr>\n",
       "<tr>\n",
       "  <th>Covariance Type:</th>      <td>nonrobust</td>    <th>                     </th>     <td> </td>    \n",
       "</tr>\n",
       "</table>\n",
       "<table class=\"simpletable\">\n",
       "<tr>\n",
       "      <td></td>        <th>coef</th>     <th>std err</th>      <th>t</th>      <th>P>|t|</th> <th>[95.0% Conf. Int.]</th> \n",
       "</tr>\n",
       "<tr>\n",
       "  <th>const</th>    <td> 9546.9822</td> <td>  103.195</td> <td>   92.514</td> <td> 0.000</td> <td> 9344.466  9749.498</td>\n",
       "</tr>\n",
       "<tr>\n",
       "  <th>Studio 1</th> <td>-1647.5305</td> <td>  229.742</td> <td>   -7.171</td> <td> 0.000</td> <td>-2098.391 -1196.670</td>\n",
       "</tr>\n",
       "<tr>\n",
       "  <th>Studio 2</th> <td>-1512.8295</td> <td>  199.052</td> <td>   -7.600</td> <td> 0.000</td> <td>-1903.463 -1122.196</td>\n",
       "</tr>\n",
       "<tr>\n",
       "  <th>Studio 3</th> <td> -665.4834</td> <td>  152.012</td> <td>   -4.378</td> <td> 0.000</td> <td> -963.803  -367.164</td>\n",
       "</tr>\n",
       "<tr>\n",
       "  <th>DIR 1</th>    <td>-5530.1353</td> <td>  204.696</td> <td>  -27.016</td> <td> 0.000</td> <td>-5931.845 -5128.426</td>\n",
       "</tr>\n",
       "<tr>\n",
       "  <th>DIR 2</th>    <td>-3965.8575</td> <td>  163.904</td> <td>  -24.196</td> <td> 0.000</td> <td>-4287.514 -3644.201</td>\n",
       "</tr>\n",
       "<tr>\n",
       "  <th>DIR 3</th>    <td>-2376.6212</td> <td>  143.885</td> <td>  -16.517</td> <td> 0.000</td> <td>-2658.992 -2094.251</td>\n",
       "</tr>\n",
       "</table>\n",
       "<table class=\"simpletable\">\n",
       "<tr>\n",
       "  <th>Omnibus:</th>       <td>20.989</td> <th>  Durbin-Watson:     </th> <td>   1.994</td>\n",
       "</tr>\n",
       "<tr>\n",
       "  <th>Prob(Omnibus):</th> <td> 0.000</td> <th>  Jarque-Bera (JB):  </th> <td>  31.618</td>\n",
       "</tr>\n",
       "<tr>\n",
       "  <th>Skew:</th>          <td>-0.200</td> <th>  Prob(JB):          </th> <td>1.36e-07</td>\n",
       "</tr>\n",
       "<tr>\n",
       "  <th>Kurtosis:</th>      <td> 3.796</td> <th>  Cond. No.          </th> <td>    6.02</td>\n",
       "</tr>\n",
       "</table>"
      ],
      "text/plain": [
       "<class 'statsmodels.iolib.summary.Summary'>\n",
       "\"\"\"\n",
       "                            OLS Regression Results                            \n",
       "==============================================================================\n",
       "Dep. Variable:          sqrt_prodcost   R-squared:                       0.651\n",
       "Model:                            OLS   Adj. R-squared:                  0.648\n",
       "Method:                 Least Squares   F-statistic:                     294.6\n",
       "Date:                Fri, 16 Oct 2015   Prob (F-statistic):          8.54e-213\n",
       "Time:                        14:28:58   Log-Likelihood:                -8479.6\n",
       "No. Observations:                 956   AIC:                         1.697e+04\n",
       "Df Residuals:                     949   BIC:                         1.701e+04\n",
       "Df Model:                           6                                         \n",
       "Covariance Type:            nonrobust                                         \n",
       "==============================================================================\n",
       "                 coef    std err          t      P>|t|      [95.0% Conf. Int.]\n",
       "------------------------------------------------------------------------------\n",
       "const       9546.9822    103.195     92.514      0.000      9344.466  9749.498\n",
       "Studio 1   -1647.5305    229.742     -7.171      0.000     -2098.391 -1196.670\n",
       "Studio 2   -1512.8295    199.052     -7.600      0.000     -1903.463 -1122.196\n",
       "Studio 3    -665.4834    152.012     -4.378      0.000      -963.803  -367.164\n",
       "DIR 1      -5530.1353    204.696    -27.016      0.000     -5931.845 -5128.426\n",
       "DIR 2      -3965.8575    163.904    -24.196      0.000     -4287.514 -3644.201\n",
       "DIR 3      -2376.6212    143.885    -16.517      0.000     -2658.992 -2094.251\n",
       "==============================================================================\n",
       "Omnibus:                       20.989   Durbin-Watson:                   1.994\n",
       "Prob(Omnibus):                  0.000   Jarque-Bera (JB):               31.618\n",
       "Skew:                          -0.200   Prob(JB):                     1.36e-07\n",
       "Kurtosis:                       3.796   Cond. No.                         6.02\n",
       "==============================================================================\n",
       "\n",
       "Warnings:\n",
       "[1] Standard Errors assume that the covariance matrix of the errors is correctly specified.\n",
       "\"\"\""
      ]
     },
     "execution_count": 2,
     "metadata": {},
     "output_type": "execute_result"
    }
   ],
   "source": [
    "studio_1=studio_production[studio_production<=1.3E7].index\n",
    "studio_2=studio_production[(studio_production>1.3E7) & (studio_production<=2.8E7)].index\n",
    "studio_3=studio_production[(studio_production>2.8E7) & (studio_production<=5.51E7)].index\n",
    "studio_4=studio_production[studio_production>5.51E7].index\n",
    "\n",
    "dat['studio_cat'] = np.nan\n",
    "dat['studio_cat'][dat.studio.isin(studio_1)] = \"Studio 1\"\n",
    "dat['studio_cat'][dat.studio.isin(studio_2)] = \"Studio 2\"\n",
    "dat['studio_cat'][dat.studio.isin(studio_3)] = \"Studio 3\"\n",
    "dat['studio_cat'][dat.studio.isin(studio_4)] = \"Studio 4\"\n",
    "\n",
    "st_cat=pd.get_dummies(dat['studio_cat'])\n",
    "d_cat=pd.get_dummies(dat['dir_cat'])\n",
    "\n",
    "X_data=st_cat.ix[:,0:3].join(d_cat.ix[:,0:3])\n",
    "\n",
    "#pd.get_dummies(dat['genre'])\n",
    "\n",
    "Y = dat.sqrt_prodcost\n",
    "X=sm.add_constant(X_data)\n",
    "\n",
    "fit1 = sm.OLS(Y,X)\n",
    "fit1 = fit1.fit()\n",
    "fit1.summary()"
   ]
  },
  {
   "cell_type": "code",
   "execution_count": 3,
   "metadata": {
    "collapsed": true
   },
   "outputs": [],
   "source": [
    "%matplotlib inline"
   ]
  },
  {
   "cell_type": "code",
   "execution_count": 4,
   "metadata": {
    "collapsed": false
   },
   "outputs": [
    {
     "data": {
      "text/plain": [
       "<matplotlib.axes._subplots.AxesSubplot at 0x1066e0c50>"
      ]
     },
     "execution_count": 4,
     "metadata": {},
     "output_type": "execute_result"
    },
    {
     "data": {
      "image/png": "[encoded data removed]",
      "text/plain": [
       "<matplotlib.figure.Figure at 0x106699290>"
      ]
     },
     "metadata": {},
     "output_type": "display_data"
    }
   ],
   "source": [
    "seaborn.boxplot(x='studio_cat',y='production_budget',data=dat)"
   ]
  },
  {
   "cell_type": "code",
   "execution_count": 13,
   "metadata": {
    "collapsed": false
   },
   "outputs": [
    {
     "name": "stdout",
     "output_type": "stream",
     "text": [
      "Index([u'A24', u'Affirm Films', u'Anchor Bay Films', u'CW Television Network',\n",
      "       u'Fox Atomic', u'Fox Searchlight Pictures', u'Gramercy Pictures (I)',\n",
      "       u'Hannover House', u'IFC Films', u'Lions Gate Films',\n",
      "       u'Magnet Releasing', u'Magnolia Pictures', u'Open Road Films (II)',\n",
      "       u'Oscilloscope Pictures', u'Provident Films', u'Roadside Attractions',\n",
      "       u'Sony Pictures Classics', u'Telepathic Studios', u'USA Films',\n",
      "       u'Universal Focus', u'Universal Home Entertainment',\n",
      "       u'Warner Bros. Domestic Television Distribution'],\n",
      "      dtype='object', name=u'studio')\n"
     ]
    }
   ],
   "source": [
    "print(studio_1)"
   ]
  },
  {
   "cell_type": "code",
   "execution_count": 14,
   "metadata": {
    "collapsed": false
   },
   "outputs": [
    {
     "name": "stdout",
     "output_type": "stream",
     "text": [
      "Index([u'Apparition', u'Buena Vista Television', u'CBS Films',\n",
      "       u'Focus Features', u'Freestyle Releasing', u'Herrick Entertainment',\n",
      "       u'MGM Distribution', u'MGM/UA Distribution Company', u'Newmarket Films',\n",
      "       u'Open Road Films', u'Orion Pictures Corporation', u'Paramount Vantage',\n",
      "       u'Picturehouse', u'Relativity Media', u'Rogue Pictures',\n",
      "       u'Romar Entertainment', u'Samuel Goldwyn Films', u'Screen Gems',\n",
      "       u'Summit Distribution', u'Warner Independent Pictures (WIP)',\n",
      "       u'Yari Film Group Releasing'],\n",
      "      dtype='object', name=u'studio')\n"
     ]
    }
   ],
   "source": [
    "print(studio_2)"
   ]
  },
  {
   "cell_type": "code",
   "execution_count": 15,
   "metadata": {
    "collapsed": false
   },
   "outputs": [
    {
     "name": "stdout",
     "output_type": "stream",
     "text": [
      "Index([u'Dimension Films', u'DreamWorks SKG', u'FilmDistrict',\n",
      "       u'Fox 2000 Pictures', u'Fox-Walden', u'Lionsgate',\n",
      "       u'Metro-Goldwyn-Mayer (MGM)', u'Miramax Films', u'My Network TV',\n",
      "       u'New Line Cinema', u'Overture Films', u'Paramount Home Entertainment',\n",
      "       u'Sony Pictures Home Entertainment', u'Summit Entertainment',\n",
      "       u'TWC-Dimension', u'Touchstone Pictures', u'TriStar Pictures',\n",
      "       u'United Artists', u'Warner Bros.', u'Weinstein Company, The'],\n",
      "      dtype='object', name=u'studio')\n"
     ]
    }
   ],
   "source": [
    "print(studio_3)"
   ]
  },
  {
   "cell_type": "code",
   "execution_count": 16,
   "metadata": {
    "collapsed": false
   },
   "outputs": [
    {
     "name": "stdout",
     "output_type": "stream",
     "text": [
      "Index([u'Buena Vista Pictures', u'Buena Vista Pictures Distribution',\n",
      "       u'Columbia Broadcasting System (CBS)', u'Columbia Pictures',\n",
      "       u'DreamWorks Distribution', u'Fox Family Films', u'Gkids',\n",
      "       u'Metro Goldwyn Distributing Company',\n",
      "       u'Metro-Goldwyn-Mayer Distributing Corporation (MGM)',\n",
      "       u'National Broadcasting Company (NBC)', u'Paramount Pictures',\n",
      "       u'Revolution Studios', u'Sony Pictures Entertainment (SPE)',\n",
      "       u'Sony Pictures Releasing', u'Touchstone Home Video',\n",
      "       u'Twentieth Century Fox', u'Twentieth Century Fox Film Corporation',\n",
      "       u'Universal Pictures', u'Village Roadshow Entertainment',\n",
      "       u'Walt Disney Pictures', u'Walt Disney Studios Motion Pictures',\n",
      "       u'Warner Bros. Pictures'],\n",
      "      dtype='object', name=u'studio')\n"
     ]
    }
   ],
   "source": [
    "print(studio_4)"
   ]
  },
  {
   "cell_type": "code",
   "execution_count": 5,
   "metadata": {
    "collapsed": false
   },
   "outputs": [
    {
     "data": {
      "text/plain": [
       "<matplotlib.axes._subplots.AxesSubplot at 0x111bcded0>"
      ]
     },
     "execution_count": 5,
     "metadata": {},
     "output_type": "execute_result"
    },
    {
     "data": {
      "image/png": "[encoded data removed]",
      "text/plain": [
       "<matplotlib.figure.Figure at 0x106699f90>"
      ]
     },
     "metadata": {},
     "output_type": "display_data"
    }
   ],
   "source": [
    "seaborn.boxplot(x='dir_cat',y='production_budget',data=dat)"
   ]
  },
  {
   "cell_type": "code",
   "execution_count": 18,
   "metadata": {
    "collapsed": false
   },
   "outputs": [
    {
     "name": "stdout",
     "output_type": "stream",
     "text": [
      "['Alejandro Monteverde', 'Alex Kendrick', 'Alex Kurtzman', 'Allen Coulter', 'Andres Muschietti', 'Andrew ErwinJon Erwin', 'Anna BodenRyan Fleck', 'Ari Sandel', 'Atom Egoyan', 'Charles Ferguson', 'Chris Kentis', 'Chris Rock', 'Chris Stokes', 'Christopher Guest', 'Colin StrauseGreg Strause', 'Courtney Solomon', 'Craig Brewer', 'Damien Chazelle', 'Dan Rush', 'Daniel Barnz', 'Daniel Stamm', 'David Ayer', 'David Michod', 'David PalmerDax Shepard', 'Davis Guggenheim', 'Debra Granik', 'Denzel Washington', 'Derek Cianfrance', 'Drew Barrymore', 'Eli Roth', 'Elizabeth Allen (II)', 'Elizabeth Banks*Steven Brill*Steve Carr*James Duffy*Griffin Dunne*Peter Farrelly*Patrik Forsberg*James Gunn*Bob Odenkirk*Brett Ratner*', 'Ethan ManiquisRobert Rodriguez', 'Fede Alvarez', 'Greg Coolidge', 'Harmony Korine', 'Henry JoostAriel Schulman', 'J.C. Chandor', 'James DeMonaco', 'James Gunn', 'James Marsh', 'James Wan', 'Jane Campion', 'Jason Moore', 'Jason Reitman', 'Jay DuplassMark Duplass', 'Jeff Nichols', 'Jesse Peretz', 'Jim Jarmusch', 'Joe Cornish', 'Joe Nussbaum', 'Joel Coen', 'John Erick Dowdle', 'John Michael McDonagh', 'John Stockwell', 'John Wells', 'Jon LucasScott Moore', 'Jonathan DaytonValerie Faris', 'Jorma Taccone', 'Joseph Gordon-Levitt', 'Josh Schwartz', 'Joshua Michael Stern', 'Karyn Kusama', 'Kathryn Bigelow', 'Kelly Reichardt', 'Kenneth Lonergan', 'Kevin Macdonald', 'Lars Von Trier', 'Lisa Cholodenko', 'Lone Scherfig', 'Marc Webb', 'Mark NeveldineBrian Taylor', 'Mark Romanek', 'Martin McDonagh', 'Matt Bettinelli-OlpinTyler Gillett', 'Michael Haneke', 'Michael Mayer', 'Michael Moore', 'Michael Roskam', 'Michael Tiddes', 'Michael Winterbottom', 'Miguel Arteta', 'Mike Binder', 'Mike Flanagan', 'Mike Judge', 'Mike Leigh', 'Mike McCoyScott Waugh', 'Mike Mills', 'Mira Nair', 'Miranda July', 'Morgan Spurlock', 'Neil Jordan', 'Neil Marshall', 'Nicole Holofcener', 'Niels Arden Oplev', 'Noah Baumbach', 'Oren Peli', 'Patty Jenkins', 'Paul Weitz', 'Paul WeitzChris Weitz*', 'Pedro Almodovar', 'R.J. Cutler', 'RZA', 'Renny Harlin', 'Richard GlatzerWash Westmoreland', 'Richard Kelly', 'Richard Linklater', 'Rob Zombie', 'Salim Akil', 'Scott Charles Stewart', 'Scott Cooper', 'Scott Derrickson', 'Scott Frank', 'Sean McNamara', 'Sidney Lumet', 'Spencer Susser', 'Stephen Frears', 'Stiles White', 'Thor Freudenthal', 'Tim Blake Nelson', 'Tod Williams', 'Todd Lincoln', 'Tom Ford', 'Tom Hooper', 'Vadim Perelman', 'Vera Farmiga', 'Will Gluck', 'William Brent Bell', 'Wong Kar Wai', 'Woody Allen', 'Zach Braff']\n"
     ]
    }
   ],
   "source": [
    "print(dir_1.tolist())"
   ]
  },
  {
   "cell_type": "code",
   "execution_count": 19,
   "metadata": {
    "collapsed": false
   },
   "outputs": [
    {
     "name": "stdout",
     "output_type": "stream",
     "text": [
      "['2/9/10 2010 Preview: Paranormal Activity 2', 'Aaron Seltzer', 'Alejandro Gonz\\xed\\x80\\x8c\\xe7lez I\\xed\\x80\\x8c\\xb1\\xed\\x80\\x8c\\xe7rritu', 'Alexander Payne', 'Alister Grierson', 'Allen Hughes', 'Andy Fickman', 'Anne Fletcher', 'Ava DuVernay', 'Barry Levinson', 'Ben Affleck', 'Ben Falcone', 'Bennett Miller', 'Bill Condon', 'Bille Woodruff', 'Boaz Yakin', 'Brad Furman', 'Bruce A. Evans', 'Burr Steers', 'Camille Delamarre', 'Catherine Hardwicke', 'Charles Martin Smith', 'Charles Stone III', 'Charlie Kaufman', 'Chris Columbus', 'Chris Gorak', 'Christian Alvart', 'Craig Gillespie', 'Danny Boyle', 'David Frankel', 'David Gordon Green', 'David LeitchChad Stahelski', 'David R. Ellis', 'David Slade', 'David Wain', 'Don Hall', 'Douglas McGrath', 'Duncan Jones', 'Ed Harris', 'Edgar Wright', 'Eric Valette', 'Fernando Meirelles', 'Fred Wolf', 'Gary Fleder', 'Gary Winick', 'Greg Mottola', 'Gus Van Sant', 'Howard Deutch', 'Ivan Reitman', 'Jake Kasdan', 'James Mangold', 'James MatherStephen St. Leger', 'James Wong', 'Jason FriedbergAaron Seltzer', 'Jean-Marc Vallee', 'Jeff Wadlow', 'Jerry Zucker', 'Jodie Foster', 'Jody Hill', 'Joe Carnahan', 'John Curran', 'John Lee Hancock', 'John Madden', 'John McTiernan', 'Jonathan Levine', 'Julie Anne Robinson', 'Justin Chadwick', 'Justin Zackham', 'Kasi Lemmons', 'Ken Scott', 'Kevin Costner', 'Kevin Smith', 'Kirk Jones', 'Kurt Wimmer', 'Larry Charles', 'Lasse Hallstrom', 'Luke Greenfield', 'Malcolm D. Lee', 'Mark Mylod', 'Mark Pellington', 'Matt Reeves', 'Michael Hoffman', 'Michael McCullers', 'Michael Sucsy', 'Mikael Hafstrom', 'Mike Mitchell', 'Neil LaBute', 'Nick Cassavetes', 'Nick Stoller', 'Niki Caro', 'Nimr\\xed\\x80\\x8c_d Antal', 'Paul Feig', 'Paul Haggis', 'Paul Thomas Anderson', 'Penelope Spheeris', 'Peter Weir', 'Richard Donner', 'Richard LaGravenese', 'Richard Loncraine', 'Ricky Gervais', 'Robert Luketic', 'Robert Redford', 'Roger Kumble', 'Roland Joffe', 'Ronny Yu', 'Rupert Wyatt', 'Sam Raimi', 'Sean Anders', 'Sofia Coppola', 'Spike Lee', 'Stephen Daldry', 'Steve Pink', 'Steven Brill', 'Terrence Malick', 'The Farrelly Bros.', 'Thomas Bezucha', 'Thomas Carter', 'Tim Story', 'Todd Field', 'Tom Hanks', 'Tom Vaughan', 'Troy Nixey', 'Tyler Perry', 'Uwe Boll', 'Vincenzo Natali', 'Walter Becker', 'Wes Anderson', 'Wes Ball', 'Wes Craven']\n"
     ]
    }
   ],
   "source": [
    "print(dir_2.tolist())"
   ]
  },
  {
   "cell_type": "code",
   "execution_count": 20,
   "metadata": {
    "collapsed": false
   },
   "outputs": [
    {
     "name": "stdout",
     "output_type": "stream",
     "text": [
      "['Adam McKay', 'Adam Shankman', 'Akiva Goldsman', 'Andrew Adamson', 'Andrew Davis', 'Andrew Niccol', 'Andrzej Bartkowiak', 'Andy Tennant', 'Angelina Jolie', 'Anthony Hemingway', 'Anthony RussoJoe Russo', 'Asger Leth', 'Baltasar Kormakur', 'Betty Thomas', 'Brian Robbins', 'Bruce Robinson', 'Cameron Crowe', 'Carl Franklin', 'Charles Shyer', 'Chris ButlerSam Fell', 'Christophe Gans', 'Clint Eastwood', 'Curtis Hanson', 'D.J. Caruso', 'Danny DeVito', 'Darren Aronofsky', 'David Bowers', 'David Dobkin', 'David Koepp', 'David O. Russell', 'David Twohy', 'David Zucker', 'Denis Villeneuve', 'Dennis Dugan', 'Dominic Sena', 'Ethan CoenJoel Coen', 'F. Gary Gray', 'Florian Henckel von Donnersmarck', 'Frank Darabont', 'Frank MillerRobert Rodriguez', 'Gabriele Muccino', 'Garry Marshall', 'George Clooney', 'George Nolfi', 'Gil Kenan', 'Greg Berlanti', 'Gregory Hoblit', 'Guy Ritchie', 'Harald Zwart', 'Harold Ramis', 'Henry Selick', 'J.J. Abrams', 'James Bobin', 'James L. Brooks', 'James McTeigue', 'Jan DeBont', 'Jaume Collet-Serra', 'Jean-Pierre Jeunet', 'Jee-woon Kim', 'Jim Sheridan', 'Jimmy Hayward', 'Joe Roth', 'Joel Schumacher', 'John Moore', 'John Schultz', 'John Singleton', 'John Whitesell', 'Jon Avnet', 'Jon HurwitzHayden Schlossberg', 'Jonathan Demme', 'Joseph Ruben', 'Josh GordonWill Speck', 'Joss Whedon', 'Judd Apatow', 'Keenen Ivory Wayans', 'Kirk De Micco', 'Klay Hall', 'Luc Besson', 'Mark S. Waters', 'Martin Brest', 'Mel Gibson', 'Michael Davis', 'Michael Lembeck', 'Mike Nichols', 'Neil Burger', 'Neill Blomkamp', 'Nora Ephron', 'Olivier Megaton', 'Patrick Lussier', 'Paul King', 'Paul Verhoeven', 'Pete Travis', 'Peter Chelsom', 'Peter Jackson', 'Peter Lepeniotis', 'Peter Lord', 'Phillip Noyce', 'Pierre Morel', 'Quentin Tarantino', 'Randall Wallace', 'Rawson Marshall Thurber', 'Rob Bowman', 'Rob Cohen', 'Rob Marshall', 'Rob Reiner', 'Roger AllersRob Minkoff', 'Roman Polanski', 'Ruben Fleischer', 'Ryan Murphy', 'Sam Fell', 'Sam Mendes', 'Sam Taylor-Johnson', 'Seth Gordon', 'Seth MacFarlane', 'Shawn Levy', 'Sngmoo Lee', 'Spike Jonze', 'Steve Carr', 'Steven Antin', 'Steven Quale', 'Steven Soderbergh', 'Steven Spielberg', 'Stuart Beattie', 'Taylor Hackford', 'Terry Gilliam', 'Tim Hill', 'Todd Phillips', 'Tom Dey', 'Tom Tykwer', 'Tony Bill', 'Tony Gilroy', 'Wayne Wang', 'William Friedkin']\n"
     ]
    }
   ],
   "source": [
    "print(dir_3.tolist())"
   ]
  },
  {
   "cell_type": "code",
   "execution_count": 21,
   "metadata": {
    "collapsed": false
   },
   "outputs": [
    {
     "name": "stdout",
     "output_type": "stream",
     "text": [
      "['Albert HughesAllen Hughes', 'Alex Proyas', 'Alfonso Cuaron', 'Andrew AdamsonKelly AsburyConrad Vernon', 'Andrew Stanton', 'Andrew StantonLee Unkrich', 'Andy & Lana Wachowski', 'Ang Lee', 'Anthony Minghella', 'Antoine Fuqua', 'Barry CookNeil Nightingale', 'Barry Sonnenfeld', 'Baz Luhrmann', 'Ben Stiller', 'Brad Bird', 'Brad Silberling', 'Breck Eisner', 'Brenda ChapmanSimon Wells', 'Brett Ratner', 'Brian De Palma', 'Bryan Singer', 'Carl Rinsch', 'Carlos Saldanha', 'Carlos Saldanha (co-director)Chris Wedge', 'Chris Buck', 'Chris Weitz', 'Chris Williams', 'Christopher Nolan', 'Clark Johnson', 'Daniel Espinosa', 'David BowersSam Fell', 'David Fincher', 'David Soren', 'Dean DeBlois', 'Dean DeBloisChris Sanders', 'Dean Parisot', 'Don Bluth', 'Doug Liman', 'Edward Zwick', 'Eric DarnellSimon J. Smith', 'Eric DarnellTim Johnson', 'Francis Lawrence', 'Frank Coraci', 'Frank Oz', 'Gary McKendry', 'Gary Ross', 'Gary Shore', 'Gavin Hood', 'Genndy Tartakovsky', 'George Miller', 'Gore Verbinski', 'Guillermo del Toro', 'James Cameron', 'Jay Roach', 'Jean-Jacques Annaud', 'Jennifer Yuh Nelson', 'Joe Johnston', 'John Dahl', 'John Lasseter', 'John LasseterBrad Lewis (co-director)', 'John LasseterLee Unkrich', 'John Woo', 'Jon Favreau', 'Jon Turteltaub', 'Jonathan Mostow', 'Joseph Kosinski', 'Justin Lin', 'Kenneth Branagh', 'Kirk De MiccoChris Sanders', 'Lawrence Kasdan', 'Lee Tamahori', 'Lee Unkrich', 'Len Wiseman', 'Louis Leterrier', 'M. Night Shyamalan', 'Marc Forster', 'Mark Steven Johnson', 'Martin Campbell', 'Martin Scorsese', 'Matthew Vaughn', 'McG', 'Michael Apted', 'Michael Bay', 'Michael Mann', 'Michael Patrick King', 'Michel Gondry', 'Nancy Meyers', 'Oliver Stone', 'Paul Greengrass', 'Paul W.S. Anderson', 'Pete DocterBob Peterson', 'Pete DocterDavid Silverman (co-director)Lee Unkrich', 'Peter Berg', 'Peter Hyams', 'Peter Segal', 'Peyton Reed', 'Phil LordChris Miller (II)', 'Pierre CoffinChris Renaud', 'Raja Gosnell', 'Ridley Scott', 'Rob Letterman', 'Rob Minkoff', 'Robert RodriguezQuentin Tarantino', 'Robert Schwentke', 'Robert Zemeckis', 'Roger Donaldson', 'Roland Emmerich', 'Ron ClementsJohn Musker', 'Ron Howard', 'Rupert Sanders', 'Sergei Bodrov', 'Shane Black', 'Simon J. Smith', 'Simon Wells', 'Simon West', 'Stephen Sommers', 'Sydney Pollack', 'Sylvester Stallone', 'Tim Burton', 'Timur Bekmambetov', 'Tom Shadyac', 'Tony Scott', 'Wally Pfister', 'Will Finn', 'Wolfgang Petersen', 'Zack Snyder']\n"
     ]
    }
   ],
   "source": [
    "print(dir_4.tolist())"
   ]
  },
  {
   "cell_type": "code",
   "execution_count": null,
   "metadata": {
    "collapsed": true
   },
   "outputs": [],
   "source": []
  }
 ],
 "metadata": {
  "kernelspec": {
   "display_name": "Python 2",
   "language": "python",
   "name": "python2"
  },
  "language_info": {
   "codemirror_mode": {
    "name": "ipython",
    "version": 2
   },
   "file_extension": ".py",
   "mimetype": "text/x-python",
   "name": "python",
   "nbconvert_exporter": "python",
   "pygments_lexer": "ipython2",
   "version": "2.7.10"
  }
 },
 "nbformat": 4,
 "nbformat_minor": 0
}
